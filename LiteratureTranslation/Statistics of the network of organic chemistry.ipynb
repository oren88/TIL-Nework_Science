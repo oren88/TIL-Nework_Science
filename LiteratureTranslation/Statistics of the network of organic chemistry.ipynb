{
 "cells": [
  {
   "cell_type": "markdown",
   "metadata": {},
   "source": [
    "# 논문 번역"
   ]
  },
  {
   "cell_type": "markdown",
   "metadata": {},
   "source": [
    "## Abstract\n",
    "유기 화학은 반응 네트워크로 표현되고 그래프 이론의 수학적 도구로 연구 될 수 있습니다. 이 논문에서는 유기 반응 네트워크의 구조가 여러 그래프 이론 측정법을 사용하여 연구되었다.네트워크는 Reaxys에서 다운로드 한 화학 공간 섹션을 기반으로했습니다. 연구 된 화학 영역은 테르펜의 화학적 성질에 해당하며 초기 3500만개의 반응을 걸러낸 후 12,238,931 종과 12,939,422 반응을 포함합니다.\n",
    "네트워크 통계분석을 통해 훨씬 작은 규모의 네트워크를 분석한 초기 문헌에서 보고된 것처럼 네트워크는 scale-free이었음이 확인되었습니다.\n",
    "다른 기술 또는 비 기술 영역의 많은 네트워크는 노드가 연결 상태가 좋거나 연결 상태가 좋지 않은 노드에 연결되어 있는지 여부를 노드가 선호한다는 것을 보여 주지만 화학적으로 이러한 경향은 관찰되지 않았습니다.\n",
    "반응 네트워크가 \"작은 세계\"의 행동을 보이고 사회적 네트워크에서 마주 치는 '분리의 6 단계'에 대한 직유에서 평균적으로 모든 분자는 여섯 가지 합성 단계에서 다른 분자로 만들어 질 수 있음이 밝혀졌습니다. 스케일없는 네트워크에는 배선 패턴에 허브가 있습니다. 이러한 허브가 잘 연구되고 있는것 뿐만아닌 자주 사용되는 것은 아닌지 조사함으로써, 네트워크의 부하가 많은 부분에 집중되어 네트워크의 구조가 화학의 사용에 영향을 주거나  또는 그 반대의 경우에도 분자 계층을 암시하는 것을 알아냈습니다"
   ]
  },
  {
   "cell_type": "markdown",
   "metadata": {},
   "source": [
    "## 1. Introduction\n",
    "\n",
    "온라인 반응 데이터베이스가 증가함에 따라 합성 경로 설계에 도움이되는 많은 양의 반응 데이터를 이용할 수 있습니다. Reaxys 만해도 4 천만 개가 넘는 반응을 포함하고 있습니다.\n",
    "현재 데이터베이스를 사용하는 방법은 개별 변형을 검색하거나 SciFinder, Reaxys, Wiley ChemPlanner, ChemSpider 또는 SPRESI와 같은 사용 가능한 데이터베이스 인터페이스를 통해 단계별 검색을 사용하여 가능한 다중 단계 합성을 검색하는 것입니다.\n",
    "그러나 최근 네트워크 탐색 알고리즘을 통해 데이터 전체를 사용하면 연구원이 데이터에 대해 더 많은 질문을 할 수 있음이 나타났습니다.\n",
    "따라서 회사가 사용하는 공급 원료 범위의 최적화, 병렬 합성 경로 최적화, 원 포트 전환 확인, 보다 효과적인 관리 대상 물질의 사용 모니터링 또는 기능 그룹의 반응 경향을 조사 할 수 있습니다.\n",
    "우리는 분자 구조 정보를 고려하여 목표로하는 네트워크 검색을 실행하여 반응 시퀀스를 개발하기 위해 대규모 화학 데이터 세트의 사용을 보여주었습니다. 반응 시퀀스는 성능 메트릭의 범위의 관점에서 평가된다.   "
   ]
  },
  {
   "cell_type": "markdown",
   "metadata": {},
   "source": [
    "합성 계획 외에도, 화학적 데이터 네트워크의 대체적인 잠재적 사용은 새로운 반응의 발견입니다. \n",
    "이는 반대의 문제입니다; \n",
    "네트워크에서 화학적 질문을하는 대신, 우리는 화학적 네트워크의 구조가 암시적 화학 정보를 포함한다는 가설을 가지고 수학적 질문을하고자하며 우리는 아직 알려지지 않은 변형의 형태로 드러 낼 수있다.\n",
    "이러한 조사를 진행하려면 데이터 구조를 더 잘 이해하는 것이 중요하다고 생각합니다. \n",
    "반응 네트워크의 경우 그래프 이론의 사용은 Corey와 Wipke의 분자들이 그래프로 표현된 retrosynthsis 접근법과 다르거나 혼동되어서는 안된다는 점에 유의해야한다."
   ]
  },
  {
   "cell_type": "markdown",
   "metadata": {},
   "source": [
    "현재까지 발표 된 화학 데이터의 알고리즘적 사용은  화학 데이터가 네트워크로 표현되고 그래프로 횡단될 수 있다는 사실을 이용합니다.\n",
    "이것은 Beilstein 데이터베이스의 9,293,250 개의 반응 데이터 세트를 사용하여 (ref.4-6)에서 처음 논의되었습니다.\n",
    "이러한 초기 연구에 사용 된 데이터 집합은 오늘날의 Reaxys 데이터베이스를 예를들어 비교할 때 상당히 작았습니다.\n",
    "따라서 오늘날 이용 가능한 더 큰 데이터 세트를 조사하고 화학 분석 데이터의 초기 분석에서 사용되지 않은 그래프의 측정법으로 분석을 확장하는 것이 유용합니다. 유기 합성의 발전에있어 일반적인 추세를 드러내는 것이기 때문입니다."
   ]
  },
  {
   "cell_type": "markdown",
   "metadata": {},
   "source": [
    "이 논문은 이전에 수행 된 분석 중 일부를 반복 할 것이지만, 더 큰 데이터 세트에서 반복 할 것이며, 네트워크의 역동성을 정량화하고 연구하기위한 추가적인 그래프 이론적 측정치를 조사 할 것입니다.\n",
    "사용 된 측정법은 서로 다른 수준의 세분성을 갖지만, 모든 통계적 특성을 가지므로, 평균을 제공합니다.\n",
    "이러한 측정법에 대한 조사는 네트워크를 사용하여 보다 정교한 그래프 이론적 개념이나 특정 화학 분야에 대한 심층적인 연구를 적용 할 수있는 필수 단계이지만 그 자체로는 특정 반응이나 반응의 등급에 대한 정보를 얻을 수는 없습니다."
   ]
  },
  {
   "cell_type": "markdown",
   "metadata": {},
   "source": [
    "More specifically, this paper will aim to answer the question what statistical properties can be observed for the section of the network studied here. It will seek to reassess if the network is indeed scale-free, whether it exhibits ‘small-world’ behaviour, and if it displays evidence of a hierarchy of nodes. This will be accomplished by investigating the degree distribution of the network, its assortativity, the existence of degree correlations and the shortest path lengths observed. Furthermore, the clustering coefficient and betweenness centrality will be investigated. Taking the results from these analyses, it will be possible to form a more complete picture of the network. Ultimately, this can be used to gain a better understanding of the chemical knowledge contained within the network. We deliberately do not focus on the historical development of the network, for example, the development of network ‘hubs’, as we are aware of a separate focused study on this sole topic to be completed shortly."
   ]
  },
  {
   "cell_type": "markdown",
   "metadata": {},
   "source": [
    "Given that graph theoretical tools do not form part of the standard chemistry or chemical engineering toolset, each of the investigated metrics is introduced in detail and its theoretical background is given in the following section. The methods used to quantify the statistics are described in the Methodology section and an interpretation of their relevance to our understanding of chemistry is given in detail in the Results and discussion section. However, a brief outline of their significance is as follows: scale-free networks follow precisely defined evolution patterns allowing conclusions about further development of the chemical landscape to be made, while also implying the existence of ‘hubs’, meaning that the average distance between two molecules is greatly reduced. The assortativity and the degree correlation, collectively, measure the mixing patterns of the network. This means that it reveals information whether a given molecule, on average, is more likely to connect to a hub or a molecule in the periphery; in other words, it might reveal whether a platform molecule is likely to react into a specialised molecule or another platform molecule. Studying the small-world behaviour of the network is very important in understanding how long the paths between two molecules are on average, i.e. how many reactions it takes to synthesise one out of the other, thus giving insights into how the network can be navigated more optimally. Analysing the betweenness centrality finally allows an assessment of the importance of molecules to synthesis routes in general by quantifying what share of paths runs via them."
   ]
  },
  {
   "cell_type": "markdown",
   "metadata": {},
   "source": [
    "# 2. Theory\n",
    "### 2.1. Introduction to graph theory"
   ]
  },
  {
   "cell_type": "markdown",
   "metadata": {},
   "source": [
    "The foundation of the field of graph theory is often associated with Leonhard Euler who “discovered” it in 1736.15,16 From initially being a purely mathematical topic, it has subsequently spread into fields as wide as the internet, sociology, biology, chemistry, physics, neuroscience and even history and English literature.15,17–20 The terms “graph” and “network” are often used interchangeably, although there is a subtle difference between them. A graph is primarily an abstract mathematical object that does not necessarily consider its realisation in nature. A network, on the other hand, is a “real-life” object as opposed to a purely mathematical one.21"
   ]
  },
  {
   "cell_type": "markdown",
   "metadata": {},
   "source": [
    "The first formal model generating a graph was that of a random graph, also referred to as the Erdős–Rényi model.22 In it, N nodes (the terms node and vertex are used interchangeably in the literature) are added to a network and then edges are added between two nodes according to a probability p.23 This means that the node degrees, i.e. the number of connections a given node has, follow a Poisson distribution17 roughly centred around an average degree, [k with combining macron]."
   ]
  },
  {
   "cell_type": "markdown",
   "metadata": {},
   "source": [
    "With the rise in computing power, it became clear that most networks do not follow the trends of a random graph. Instead, many networks deviate by showing “small world” behaviour, a degree distribution that follows a power-law rather than a Poisson distribution, high degrees of clustering, and degree correlations between connected vertices.17,23,24 These clear, non-random deviations in topology required the field of graph theory to develop new models to describe the organising principles of real networks."
   ]
  },
  {
   "cell_type": "markdown",
   "metadata": {},
   "source": [
    "A large number of real networks exhibit a power-law degree distribution, in stark contrast to the Poisson distribution predicted by the Erdős–Rényi model.25 This was first discovered by de Solla Price in 1965.26 It was independently rediscovered in 1999 (ref. 27) and subsequently achieved prominence as the Barabasi–Albert model, describing what was termed a ‘scale-free network’.17,18,28 Though this name may appear counter-intuitive, it acknowledges the fact that while a random network has a characteristic scale in the average degree, around which its degree distribution is centred, the scale-free network has no such single scale. An important caveat is that though the overall network may have no scale in its degree distribution, both the other properties of the network and the degree distribution of sub-networks may have scales present."
   ]
  },
  {
   "cell_type": "markdown",
   "metadata": {},
   "source": [
    "The power-law degree distribution means that many nodes have very few connections, while a few nodes have a very large number of connections. This means that a scale-free network exhibits hubs, which are vertices that are linked to a significant fraction of the total number of edges in the network,17 affecting the properties of the network. For example, this means that the average distance between nodes, i.e. the number of edges that need to be traversed en route between the two, is lower than that in a random network,30 or that the network exhibits a much greater degree of clustering than might be expected of a comparable random network."
   ]
  },
  {
   "cell_type": "markdown",
   "metadata": {},
   "source": [
    "A number of recent studies have shown the existence of a hierarchical structure in many real-life networks,32–34 in which groups of vertices can be subdivided into smaller clusters of vertices, which each divide into yet smaller groups over several iterations.23,35,36 This phenomenon was first observed when examining metabolic networks.37 These networks on the one hand exhibited very high degrees of clustering, indicative of a modular architecture, while on the other hand having a power-law degree distribution. This was surprising as a highly modular architecture greatly restricts the degree distribution, while a scale-free architecture runs counter to a modular organisation. This apparent contradiction was overcome by using a heuristic model that combined nodes into densely connected local clusters, which in turn combined into less dense, larger groups, which again combined into even less cohesive larger groups, thus allowing communication between the densely clustered modules via a small number of hubs.23,32 As a consequence, a hierarchical network is able to explain local clustering and modularity, short path lengths, and scale-free degree distributions."
   ]
  },
  {
   "cell_type": "markdown",
   "metadata": {},
   "source": [
    "Clustering can be quantified with the clustering coefficient, which measures the amount of interlinking between neighbours of a given node. It has been argued that a key signature of a hierarchical network is the existence of an inverse scaling between the clustering coefficient and the degree. This is caused by the fact that increasing the cluster size, which means an increase in the degree, leads to a decreasing degree of interlinking, meaning a decreasing clustering coefficient. This gives rise to a power-law behaviour. Evidence of this was reported in a number of sources,23,32,37,39–42 though Soffer and Vázquez contest this claim, arguing that the trend observed is merely a consequence of correlations between the degrees of neighbouring nodes."
   ]
  },
  {
   "cell_type": "markdown",
   "metadata": {},
   "source": [
    "In practice, real-life networks do not necessarily exactly fit into one of the presented categories and are thus classified as “complex networks”.43 Despite spanning a vast field of disparate topics, it has been found that many of these networks are characterised by the same topological properties.30 One such property, for example, is the “small world effect”, first popularised in sociology. It describes the fact that most nodes can be connected via only a few edges,44 far fewer than expected by chance. This was found to be the case in virtually all computational or biological networks.15,23 Similarly, a very common phenomenon in complex networks is a degree correlation, where it is possible to establish a correlation between a vertex's degree and the degree of the vertices it connects to, i.e. a correlation between the number of connections of a node and the number of connections of its neighbours."
   ]
  },
  {
   "cell_type": "markdown",
   "metadata": {},
   "source": [
    "Another interesting question is estimating the importance of a given vertex to the network. This is possible by finding the shortest route connecting all possible combinations of vertices in the network and then measuring the fraction of these routes running via this vertex. The result of this is referred to as ‘betweenness centrality’.30 The metrics used to study the network of organic chemistry in this paper are introduced in detail below."
   ]
  },
  {
   "cell_type": "markdown",
   "metadata": {},
   "source": [
    "### 2.2. Degree distribution"
   ]
  },
  {
   "cell_type": "markdown",
   "metadata": {},
   "source": [
    "One of the fundamental properties of a network is the so-called “degree”. The degree of node i, ki, gives the number of edges connected to a given node. In the case of a directed network, such as is the case here, each edge has a “source” and a “target” with the directionality representing, in this case, the direction in which a reaction proceeds. This means that it is not merely sufficient to count the number of edges connected to a node, but that the measure needs to be further refined into an “out-degree”, kout, giving the number of edges emanating from the node, and an “in-degree”, kin, giving the number of edges which have the node as the target."
   ]
  },
  {
   "cell_type": "markdown",
   "metadata": {},
   "source": [
    "According to ref. 4 and 6, the Network of Organic Chemistry exhibits scale-free behaviour and thus its degree distribution follows a power law, where the probability, P(k), of observing a given degree, k, is given by eqn (1) for both the in-degree, kin, and the out-degree, kout."
   ]
  },
  {
   "cell_type": "markdown",
   "metadata": {},
   "source": [
    "P(k) ∝ k<sup>−γ</sup>"
   ]
  },
  {
   "cell_type": "markdown",
   "metadata": {},
   "source": [
    "According to the literature,4,6 the respective power-law exponents, γin and γout, take the approximate values of 2.7 and 2.1, respectively. The network will therefore be analysed to see if the same behaviour can be observed to verify its scale-free nature."
   ]
  },
  {
   "cell_type": "markdown",
   "metadata": {},
   "source": [
    "For uncorrelated networks, the degree distribution completely describes the statistical properties of the network. For most real networks, however, there is a correlation between the degrees of neighbouring nodes,30 which shall be further analysed in the following section."
   ]
  },
  {
   "cell_type": "markdown",
   "metadata": {},
   "source": [
    "In any given network, one would expect to find a difference in vertex properties between neighbouring vertices. This is of particular interest in sociology, where a question of interest might be whether people with many social connections largely connect with other people with many connections or with people with few connections. In epidemiology, the study of this variation could be very useful in giving insights into how quickly an epidemic might spread or how effective a vaccination campaign might be, whilst in technology networks, such as the internet, it could lend insights into the resilience of the network against random node failure, by servers going off-line, or against directed node failure, through targeted hacking attacks or computer viruses."
   ]
  },
  {
   "cell_type": "markdown",
   "metadata": {},
   "source": [
    "Linking of nodes of similar properties to nodes with similar properties occurs in networks exhibiting assortative mixing (as shown in Fig. 1).46 In sociology, this might be the case of gregarious people connecting largely to other gregarious people. The case of nodes with a given magnitude for a given vertex property preferentially linking to nodes with a different magnitude for the same vertex property is called disassortative mixing (as illustrated in Fig. 2).46 This can be observed, for example, in the internet, where the backbone structure of the internet means that nodes of high degree counts link to nodes of low degree counts."
   ]
  },
  {
   "cell_type": "markdown",
   "metadata": {},
   "source": [
    "![Fig.1](http://pubs.rsc.org/services/images/RSCpubs.ePlatform.Service.FreeContent.ImageService.svc/ImageService/Articleimage/2018/RE/c7re00129k/c7re00129k-f1.gif \"Markdown Image\" \"width:50px;height:55px;\")\n",
    "**Fig. 1** Within the shown section of a network, nodes 1 and 2 exhibit assortative mixing in that two nodes of similar degree connect to each other.\n",
    "![Fig.2](http://pubs.rsc.org/services/images/RSCpubs.ePlatform.Service.FreeContent.ImageService.svc/ImageService/Articleimage/2018/RE/c7re00129k/c7re00129k-f2.gif)\n",
    "**Fig. 2** Within this section of a network, nodes 1 and 3 exhibit disassortative mixing in that two nodes of similar degree preferentially connect to a node of a different degree count."
   ]
  },
  {
   "cell_type": "markdown",
   "metadata": {},
   "source": [
    "In order to quantify this effect, Newman proposed an assortativity coefficient, r, which quantifies whether the network exhibits assortative, no, or disassortative mixing.47 In the case of a directed network, r takes the form of eqn (2),\n",
    "![eqn2](http://pubs.rsc.org/services/images/RSCpubs.ePlatform.Service.FreeContent.ImageService.svc/ImageService/Articleimage/2018/RE/c7re00129k/c7re00129k-t1.gif)\n",
    "where ejk is the probability that a randomly chosen edge connects a node of in-degree j and out-degree k (i.e. P(k|j)) and σ is the standard deviation of the corresponding distribution.\n",
    "Finally, qk and qj can be found as follows:\n",
    "![eqn3](http://pubs.rsc.org/services/images/RSCpubs.ePlatform.Service.FreeContent.ImageService.svc/ImageService/Articleimage/2018/RE/c7re00129k/c7re00129k-t2.gif)"
   ]
  },
  {
   "cell_type": "markdown",
   "metadata": {},
   "source": [
    "As a consequence, we find that 0 < r ≤ 1 for all networks with assortative mixing, zero in the absence of a mixing structure, and −1 ≤ r < 0 in the case of disassortative mixing.\n",
    " The definition is complicated by the fact that it has to deal with directed networks. In the undirected case, the definition is intuitive in that it considers only a single quantity, the degree. The reader is referred to ref. 47 for the form of the undirected assortativity coefficient. When expanding it to directed networks, the above given definition now measures similarity in terms of two different quantities for a given node pair, in-degree and out-degree. To alleviate this contradiction, Piraveenan et al. proposed an out- and an in-assortativity, rout and rin, respectively, which now measure the propensity to link to a node by considering only a single property.48 This form shall be used in the further analysis:\n",
    "![eqn4](http://pubs.rsc.org/services/images/RSCpubs.ePlatform.Service.FreeContent.ImageService.svc/ImageService/Articleimage/2018/RE/c7re00129k/c7re00129k-t3.gif)"
   ]
  },
  {
   "cell_type": "markdown",
   "metadata": {},
   "source": [
    "where eoutjk now is the probability distribution of a link from a node with out-degree j going into a node with out-degree k. qoutj remains the probability distribution of a link emanating from a node with out-degree j while (qkout) is the probability distribution of an edge going into a node of out-degree k. Furthermore, σoutq is the standard deviation of qoutj and σoutq′ is that of image (qkout). Similar definitions apply to rin."
   ]
  },
  {
   "cell_type": "markdown",
   "metadata": {},
   "source": [
    "It appears to be the case that social networks are largely assortative while biological and technological networks exhibit disassortative mixing. The reason for the internet displaying disassortative mixing is that the high-degree vertices are connectivity providers, or directories, which by definition tend to connect to the “little people”.47 However, the observed disassortative behaviour may be an artefact of the sampling carried out."
   ]
  },
  {
   "cell_type": "markdown",
   "metadata": {},
   "source": [
    "Other authors caution that the often observed assortative trend may simply be an artefact caused by the fact that many of the studied cases were, in fact, implicit projections of bipartite networks. This illustrates the danger of placing too much importance on generalisations about the assortativity or disassortativity structures of given classes of networks, or not considering how the studied data has actually been collected and presented."
   ]
  },
  {
   "cell_type": "markdown",
   "metadata": {},
   "source": [
    "If the constraint that no two vertices may be connected by more than one edge is imposed, then high-degree vertices seemingly repel one another, leading to disassortative mixing. In the case of the internet, for example, crawlers often record websites linking to another website multiple times only once. As a consequence, the observed behaviour, at least in parts, may be an artefact of the chosen representation as opposed to the underlying properties of the network."
   ]
  },
  {
   "cell_type": "markdown",
   "metadata": {},
   "source": [
    "## 2.4 Degree correlation\n",
    "As can be observed from the previous section, the assortativity of a network is closely related to the correlation of degrees between connected vertices, ejk. This correlation can be further analysed by studying the nearest neighbour average connectivity, ¯ knn, which is related to the degree correlation as follows, but is in practice easier to calculate than the degree correlation:\n",
    "![eqn5](http://pubs.rsc.org/services/images/RSCpubs.ePlatform.Service.FreeContent.ImageService.svc/ImageService/Articleimage/2018/RE/c7re00129k/c7re00129k-t6.gif)\n",
    "where P(k'|k) is the conditional probability of a node of degree k connecting to a node of degree k',52 and thus is an alternate notation of ejk."
   ]
  },
  {
   "cell_type": "markdown",
   "metadata": {},
   "source": [
    "## 2.7. Betweenness centrality\n",
    "The betweenness of a given vertex i, bi, is the number of shortest paths between all pairs of vertices in the network that go through this vertex. If there are multiple paths between a given pair, then the paths that do pass through the vertex contribute fractionally."
   ]
  },
  {
   "cell_type": "markdown",
   "metadata": {},
   "source": [
    "If we accept the supposition that the shortest path is an indicator of the ideal route between two vertices, then the betweenness of a given vertex is a measure of the amount of traffic that it sees. Therefore, it is a measure of its centrality in the network leading to the term betweenness centrality.52 Similarly, it is possible to define an edge centrality.18,57 This concept has been discussed in intuitive terms since at least 1948.63 However, an algebraic definition was first published only in 1977 by Freeman,63 in the context of relaying information in a social network. If we take a pair of points, i, j, then the number of shortest paths connecting these points, so-called geodesics, shall be denoted by g(i, j). If we assume that all paths are equally likely to be the path along which the message is transmitted, then the probability of a given path being used is\n",
    "![](http://pubs.rsc.org/services/images/RSCpubs.ePlatform.Service.FreeContent.ImageService.svc/ImageService/Articleimage/2018/RE/c7re00129k/c7re00129k-t15.gif).\n",
    "If we consider a point k, then the likelihood that this point is along the path “chosen” by the message is the number of geodesics between i and j on which k lies, with gk (i, j) multiplied by the likelihood of any of these paths being the “chosen” path.63 This value shall be called partial betweenness of k, bk (i, j):\n",
    "![eqn11](http://pubs.rsc.org/services/images/RSCpubs.ePlatform.Service.FreeContent.ImageService.svc/ImageService/Articleimage/2018/RE/c7re00129k/c7re00129k-t16.gif)"
   ]
  },
  {
   "cell_type": "markdown",
   "metadata": {},
   "source": []
  },
  {
   "cell_type": "markdown",
   "metadata": {},
   "source": [
    "# 3. Methodology\n",
    "## 3.1. Degree distribution"
   ]
  },
  {
   "cell_type": "markdown",
   "metadata": {},
   "source": [
    "A network of reactions was constructed based on the reactions contained in Reaxys.2 All reactions involving limonene as the reactant were downloaded. The choice of the starting point in the data search was dictated by the specific problem statement within a project on developing potential transformations of terpene sources as a waste bio-feedstock into useful chemicals.12 All product species from these reactions were individually queried to obtain all reactions starting from each of these species. This was repeated to obtain data containing four reaction steps to obtain a network of adequate size. This was written to a file and incomplete reactions were deleted. The data mapped the network explicitly, depicting all contained products. Information about the reactants, however, existed only implicitly in so far as that they featured as information in the reactions retrieved for the products, but there was no guarantee that this was a complete set. To overcome this issue an additional search was run and all species that had been searched for as products were now searched for as reactants too. Thus, it was ensured that a complete and accurate picture of the reactions contained in Reaxys for the species searched for had been obtained."
   ]
  },
  {
   "cell_type": "markdown",
   "metadata": {},
   "source": [
    "This process retrieved 50,296,475 reactions. After removing the duplicate entries in that list, 34,260,049 reactions remained. This equates to close to 80% of reactions in Reaxys at the time.65 In its early phases, Reaxys sometimes aggregated reactions comprising several steps, created a new, duplicate entry for these and then marked these as multistep reactions to improve manual searchability. For this reason, inclusion of the multistep reactions skews the network's statistics and, thus, they were excluded from the analysis set. This brought the number of reactions down to 13,770,205. Deletion of incomplete reactions, namely those that had either no products or no reactants declared in Reaxys, left the total number of reactions analysed at 12,939,422."
   ]
  },
  {
   "cell_type": "markdown",
   "metadata": {},
   "source": [
    "The condensed and sanitised data set was converted into a network using Python scripts and an implementation of graph-tool in Python2.7. This was carried out by assigning each chemical species contained in the data set as a vertex in the network and then for each reaction connecting all reactants to all products via a directed edge going from the reactant to the product. Each node and edge was then annotated with various properties, such as Reaxys IDs, to allow their matching to a database entry. Multiple different wiring schemes are of course possible, ranging from the “all to all” scheme employed here on the one end of the spectrum to a “one to one” scheme, where only the heaviest reactant and product of each reaction are added to and linked in the network resulting in only one edge per reaction. Fialkowski et al. have carried out an investigation of the effects of the choice of the wiring scheme on the properties of the network and found them to be negligible."
   ]
  },
  {
   "cell_type": "markdown",
   "metadata": {},
   "source": [
    "In order to analyse the degree distribution, the in-degree of every node in the network was then written to one file and the out-degree to another file. Firstly, given the fact that a power law is undefined for a value of k = 0, all nodes that had a degree of 0 were deleted from the respective file. Subsequently, the data were analysed using the Python package “powerlaw” in Python2.7."
   ]
  },
  {
   "cell_type": "markdown",
   "metadata": {},
   "source": [
    "Seeing as the degree distribution is necessarily discrete, discrete=True was set in the code and estimate_discrete=False. Furthermore, it was specified that kmin = 1.0 as this represents the lowest possible degree a node can have under the power-law model. The “powerlaw” package was then used to fit the data to a power-law model. An important fact to bear in mind is that the probability density functions (pdf) of heavy-tailed distributions are notoriously noisy in their tail as the number of observations of a given value, in this case the degree, is very low in the tail. This makes it more convenient to use cumulative distribution functions (cdfs), expressing the likelihood of observing a value less than or equal to the given value.Using the cdf, it is possible to determine the slope, 1 − γ, and thus the degree exponent with far greater accuracy compared to using the degree distribution, while also showing possible truncation of the tail more clearly. The other approach towards smoothing out the fluctuation in the tail of the pdf is to use binning if employing bins of exponential length.69 Both techniques were employed here."
   ]
  },
  {
   "cell_type": "markdown",
   "metadata": {},
   "source": [
    "Perhaps more relevant is the question whether the data is best described using a power law. The log-likelihood ratio between two candidate models, R, was computed along with its significance value (p-value) using the “powerlaw” package.67 A positive value of the logarithm of the ratio of the likelihood of the first distribution and the likelihood of the second distribution indicates that the data is more likely to be described by the first distribution, in this case a power law, and a negative value indicates that the other candidate model provides a better explanation.67,68 Though R gives us an estimate of which distribution is more likely, it, like any other quantity, is subject to statistical fluctuations. Thus, if the true value of R is close to zero, a fluctuation can lead to a sign change, meaning that we cannot trust the value of R.68 For this reason, we also require the p-value as a measure of whether the observed sign of R is statistically significant. This means that if we observe a small value of p (ref. 68 suggests a cut-off of 0.1, in ref. 67 a cut-off of 0.05 was suggested), it is unlikely that the sign of R is the result of a chance fluctuation and, hence, is able to tell which model is favoured. If the p-value is large, the sign is most likely the result of a statistical fluctuation, and the test does not favour either model as a description of the observed data."
   ]
  },
  {
   "cell_type": "markdown",
   "metadata": {},
   "source": [
    "The defining feature of a power law is the fact that it displays a heavy-tailed distribution. For this reason, the goodness of fit using a power law is compared to that of a lognormal distribution and a stretched exponential distribution, which both exhibit heavy tails without following a power law.67 By definition, a heavy tail is not exponentially bounded. Thus, if the data is described more accurately by an exponential distribution, there is little argument for observing a heavy-tailed distribution, meaning that the data does not follow a power law.67 Finally, a truncated power law is tested for, representing a mixture of the exponential distribution and the power law."
   ]
  },
  {
   "cell_type": "markdown",
   "metadata": {},
   "source": [
    "## 3.2. Assortativity\n",
    "The assortativity was calculated for both the in- and the out-degree as well as the combined degree using a function implemented in graph-tool. This was done both when allowing parallel edges and when allowing only one edge so as to allow conclusions about the wiring scheme's impact on the value of the assortativity."
   ]
  },
  {
   "cell_type": "markdown",
   "metadata": {},
   "source": [
    "## 3.3. Degree correlation\n",
    "In practice, eqn (5) can be evaluated more easily by averaging the degree of all nearest neighbours of all nodes of degree k for all values of k, which can then be plotted against each other. If no correlation exists between the two degrees, [k with combining macron]nn (k) will be independent of k (i.e. r = 0), while an increasing function in k corresponds to assortative mixing and a decreasing function to disassortative mixing. For a perfectly assortative network, one would expect the points to fall onto the x–y diagonal. Naturally, this function can be calculated for the in-, out- and total-degree. The results of doing so will be shown subsequently."
   ]
  },
  {
   "cell_type": "markdown",
   "metadata": {},
   "source": []
  },
  {
   "cell_type": "markdown",
   "metadata": {},
   "source": []
  }
 ],
 "metadata": {
  "kernelspec": {
   "display_name": "Python 3",
   "language": "python",
   "name": "python3"
  },
  "language_info": {
   "codemirror_mode": {
    "name": "ipython",
    "version": 3
   },
   "file_extension": ".py",
   "mimetype": "text/x-python",
   "name": "python",
   "nbconvert_exporter": "python",
   "pygments_lexer": "ipython3",
   "version": "3.6.4"
  }
 },
 "nbformat": 4,
 "nbformat_minor": 2
}
